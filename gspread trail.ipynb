{
 "cells": [
  {
   "cell_type": "code",
   "execution_count": 12,
   "id": "moderate-wallet",
   "metadata": {},
   "outputs": [
    {
     "data": {
      "text/plain": [
       "{'spreadsheetId': '1b05WRj0BGUS_nuP40Eg6CGDWw_bbFQDAtyrJZgKpDzc',\n",
       " 'replies': [{}]}"
      ]
     },
     "execution_count": 12,
     "metadata": {},
     "output_type": "execute_result"
    }
   ],
   "source": [
    "import gspread\n",
    "gc = gspread.service_account()\n",
    "sh = gc.open(\"OptionsDashboard\")\n",
    "wsh1 = sh.worksheet(\"Daily OI Data\")\n",
    "wsh1.update('A1', [[1, 2], [3, 4]])\n",
    "wsh1.format('1', {'textFormat': {'bold': True}})"
   ]
  },
  {
   "cell_type": "code",
   "execution_count": 10,
   "id": "acquired-magnet",
   "metadata": {},
   "outputs": [
    {
     "name": "stdout",
     "output_type": "stream",
     "text": [
      "[['test']]\n"
     ]
    }
   ],
   "source": [
    "\n",
    "#print(sh.sheet1.get('A1'))\n",
    "\n",
    "\n",
    "# print(sh.'Daily OI Data'.get('A1'))"
   ]
  },
  {
   "cell_type": "code",
   "execution_count": 13,
   "id": "ready-prevention",
   "metadata": {},
   "outputs": [
    {
     "name": "stdout",
     "output_type": "stream",
     "text": [
      "Collecting gspread_dataframeNote: you may need to restart the kernel to use updated packages.\n"
     ]
    },
    {
     "name": "stderr",
     "output_type": "stream",
     "text": [
      "WARNING: You are using pip version 21.0.1; however, version 21.1 is available.\n",
      "You should consider upgrading via the 'c:\\users\\shubhangi\\appdata\\local\\programs\\python\\python36\\python.exe -m pip install --upgrade pip' command.\n"
     ]
    },
    {
     "name": "stdout",
     "output_type": "stream",
     "text": [
      "\n",
      "  Using cached gspread_dataframe-3.2.1-py2.py3-none-any.whl (7.8 kB)\n",
      "Requirement already satisfied: pandas>=0.24.0 in c:\\users\\shubhangi\\appdata\\local\\programs\\python\\python36\\lib\\site-packages (from gspread_dataframe) (1.1.5)\n",
      "Requirement already satisfied: gspread>=3.0.0 in c:\\users\\shubhangi\\appdata\\local\\programs\\python\\python36\\lib\\site-packages (from gspread_dataframe) (3.7.0)\n",
      "Requirement already satisfied: six>=1.12.0 in c:\\users\\shubhangi\\appdata\\local\\programs\\python\\python36\\lib\\site-packages (from gspread_dataframe) (1.15.0)\n",
      "Requirement already satisfied: google-auth>=1.12.0 in c:\\users\\shubhangi\\appdata\\local\\programs\\python\\python36\\lib\\site-packages (from gspread>=3.0.0->gspread_dataframe) (1.29.0)\n",
      "Requirement already satisfied: google-auth-oauthlib>=0.4.1 in c:\\users\\shubhangi\\appdata\\local\\programs\\python\\python36\\lib\\site-packages (from gspread>=3.0.0->gspread_dataframe) (0.4.4)\n",
      "Requirement already satisfied: cachetools<5.0,>=2.0.0 in c:\\users\\shubhangi\\appdata\\local\\programs\\python\\python36\\lib\\site-packages (from google-auth>=1.12.0->gspread>=3.0.0->gspread_dataframe) (4.2.1)\n",
      "Requirement already satisfied: pyasn1-modules>=0.2.1 in c:\\users\\shubhangi\\appdata\\local\\programs\\python\\python36\\lib\\site-packages (from google-auth>=1.12.0->gspread>=3.0.0->gspread_dataframe) (0.2.8)\n",
      "Requirement already satisfied: setuptools>=40.3.0 in c:\\users\\shubhangi\\appdata\\local\\programs\\python\\python36\\lib\\site-packages (from google-auth>=1.12.0->gspread>=3.0.0->gspread_dataframe) (56.0.0)\n",
      "Requirement already satisfied: rsa<5,>=3.1.4 in c:\\users\\shubhangi\\appdata\\local\\programs\\python\\python36\\lib\\site-packages (from google-auth>=1.12.0->gspread>=3.0.0->gspread_dataframe) (4.7.2)\n",
      "Requirement already satisfied: requests-oauthlib>=0.7.0 in c:\\users\\shubhangi\\appdata\\local\\programs\\python\\python36\\lib\\site-packages (from google-auth-oauthlib>=0.4.1->gspread>=3.0.0->gspread_dataframe) (1.3.0)\n",
      "Requirement already satisfied: numpy>=1.15.4 in c:\\users\\shubhangi\\appdata\\local\\programs\\python\\python36\\lib\\site-packages (from pandas>=0.24.0->gspread_dataframe) (1.19.5)\n",
      "Requirement already satisfied: pytz>=2017.2 in c:\\users\\shubhangi\\appdata\\local\\programs\\python\\python36\\lib\\site-packages (from pandas>=0.24.0->gspread_dataframe) (2021.1)\n",
      "Requirement already satisfied: python-dateutil>=2.7.3 in c:\\users\\shubhangi\\appdata\\local\\programs\\python\\python36\\lib\\site-packages (from pandas>=0.24.0->gspread_dataframe) (2.8.1)\n",
      "Requirement already satisfied: pyasn1<0.5.0,>=0.4.6 in c:\\users\\shubhangi\\appdata\\local\\programs\\python\\python36\\lib\\site-packages (from pyasn1-modules>=0.2.1->google-auth>=1.12.0->gspread>=3.0.0->gspread_dataframe) (0.4.8)\n",
      "Requirement already satisfied: requests>=2.0.0 in c:\\users\\shubhangi\\appdata\\local\\programs\\python\\python36\\lib\\site-packages (from requests-oauthlib>=0.7.0->google-auth-oauthlib>=0.4.1->gspread>=3.0.0->gspread_dataframe) (2.25.1)\n",
      "Requirement already satisfied: oauthlib>=3.0.0 in c:\\users\\shubhangi\\appdata\\local\\programs\\python\\python36\\lib\\site-packages (from requests-oauthlib>=0.7.0->google-auth-oauthlib>=0.4.1->gspread>=3.0.0->gspread_dataframe) (3.1.0)\n",
      "Requirement already satisfied: chardet<5,>=3.0.2 in c:\\users\\shubhangi\\appdata\\local\\programs\\python\\python36\\lib\\site-packages (from requests>=2.0.0->requests-oauthlib>=0.7.0->google-auth-oauthlib>=0.4.1->gspread>=3.0.0->gspread_dataframe) (4.0.0)\n",
      "Requirement already satisfied: certifi>=2017.4.17 in c:\\users\\shubhangi\\appdata\\local\\programs\\python\\python36\\lib\\site-packages (from requests>=2.0.0->requests-oauthlib>=0.7.0->google-auth-oauthlib>=0.4.1->gspread>=3.0.0->gspread_dataframe) (2020.12.5)\n",
      "Requirement already satisfied: idna<3,>=2.5 in c:\\users\\shubhangi\\appdata\\local\\programs\\python\\python36\\lib\\site-packages (from requests>=2.0.0->requests-oauthlib>=0.7.0->google-auth-oauthlib>=0.4.1->gspread>=3.0.0->gspread_dataframe) (2.10)\n",
      "Requirement already satisfied: urllib3<1.27,>=1.21.1 in c:\\users\\shubhangi\\appdata\\local\\programs\\python\\python36\\lib\\site-packages (from requests>=2.0.0->requests-oauthlib>=0.7.0->google-auth-oauthlib>=0.4.1->gspread>=3.0.0->gspread_dataframe) (1.26.3)\n",
      "Installing collected packages: gspread-dataframe\n",
      "Successfully installed gspread-dataframe-3.2.1\n"
     ]
    }
   ],
   "source": [
    "pip install gspread_dataframe \n"
   ]
  },
  {
   "cell_type": "code",
   "execution_count": null,
   "id": "sharp-grocery",
   "metadata": {},
   "outputs": [],
   "source": []
  }
 ],
 "metadata": {
  "kernelspec": {
   "display_name": "Python 3",
   "language": "python",
   "name": "python3"
  },
  "language_info": {
   "codemirror_mode": {
    "name": "ipython",
    "version": 3
   },
   "file_extension": ".py",
   "mimetype": "text/x-python",
   "name": "python",
   "nbconvert_exporter": "python",
   "pygments_lexer": "ipython3",
   "version": "3.6.5"
  }
 },
 "nbformat": 4,
 "nbformat_minor": 5
}
