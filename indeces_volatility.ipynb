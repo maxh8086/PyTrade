{
 "cells": [
  {
   "cell_type": "code",
   "execution_count": 1,
   "id": "contemporary-fitness",
   "metadata": {},
   "outputs": [],
   "source": [
    "import numpy as np\n",
    "from datetime import date, timedelta\n",
    "import pandas as pd\n",
    "import numpy as np\n",
    "import requests\n",
    "from bs4 import BeautifulSoup\n",
    "import os\n",
    "import matplotlib.pyplot as plt\n",
    "import math\n",
    "import logging\n",
    "\n",
    "logging.basicConfig(level='CRITICAL')\n",
    "mpl_logger = logging.getLogger('matplotlib')\n",
    "mpl_logger.setLevel(logging.CRITICAL)\n",
    "mpl_logger.disabled = True\n",
    "\n",
    "result = pd.DataFrame()\n",
    "stage = 0\n",
    "response = []\n",
    "\n",
    "oldHeader = {\n",
    "    \"Host\": \"www1.nseindia.com\",\n",
    "    \"User-Agent\": \"Mozilla/5.0 (Windows NT 10.0; Win64; x64; rv:82.0) Gecko/20100101 Firefox/82.0\",\n",
    "    \"Accept\": \"*/*\",\n",
    "    \"Accept-Language\": \"en-US,en;q=0.5\",\n",
    "    \"Accept-Encoding\": \"gzip, deflate, br\",\n",
    "    \"X-Requested-With\": \"XMLHttpRequest\",\n",
    "    \"Referer\": \"https://www1.nseindia.com/products/content/equities/indices/historical_index_data.htm\",\n",
    "    \"Access-Control-Allow-Origin\": \"*\",\n",
    "    \"Access-Control-Allow-Methods\": \"GET,POST,PUT,DELETE,OPTIONS\",\n",
    "    \"Access-Control-Allow-Headers\": \"Content-Type, Access-Control-Allow-Headers, Authorization, X-Requested-With\",\n",
    "    'Content-Type': 'application/x-www-form-urlencoded; charset=UTF-8'\n",
    "}\n",
    "\n",
    "newheaders = {\n",
    "            'Connection': 'keep-alive',\n",
    "            'Cache-Control': 'max-age=0',\n",
    "            'DNT': '1',\n",
    "            'Upgrade-Insecure-Requests': '1',\n",
    "            'User-Agent': 'Mozilla/5.0 (Windows NT 10.0; Win64; x64) AppleWebKit/537.36 (KHTML, like Gecko) Chrome/79.0.3945.79 Safari/537.36',\n",
    "            'Sec-Fetch-User': '?1',\n",
    "            'Accept': 'text/html,application/xhtml+xml,application/xml;q=0.9,image/webp,image/apng,*/*;q=0.8,application/signed-exchange;v=b3;q=0.9',\n",
    "            'Sec-Fetch-Site': 'none',\n",
    "            'Sec-Fetch-Mode': 'navigate',\n",
    "            'Accept-Encoding': 'gzip, deflate, br',\n",
    "            'Accept-Language': 'en-US,en;q=0.9,hi;q=0.8',\n",
    "          }\n",
    "\n",
    "# set stock ticker symbol\n",
    "symbol = 'SBIN'\n",
    "series = 'EQ'\n",
    "\n",
    "# indics = 'NIFTY 50'\n",
    "indics = 'NIFTY BANK'\n",
    " \n",
    "# set date range for historical prices\n",
    "end_date = date.today() # 24-03-2021\n",
    "start_date = end_date - timedelta(days=364) # 24-03-2020\n",
    " \n",
    "# reformat date range\n",
    "end = end_date.strftime('%d-%m-%Y')\n",
    "start = start_date.strftime('%d-%m-%Y')"
   ]
  },
  {
   "cell_type": "code",
   "execution_count": 2,
   "id": "engaging-kernel",
   "metadata": {},
   "outputs": [],
   "source": [
    "BaseUrl = \"https://www.nseindia.com\"\n",
    "url = \"https://www.nseindia.com/api/historical/cm/equity?symbol=\" + symbol + \"&series=[%22\" + series + \"%22]&from=\" + start + \"&to=\" + end\n",
    "indicsurl = \"https://www1.nseindia.com/products/dynaContent/equities/indices/historicalindices.jsp?indexType=\" + indics + \"&fromDate=\" + start + \"&toDate=\" + end\n",
    "indicsOHLCurl = \"https://www.nseindia.com/api/equity-stockIndices?index=\" + indics\n",
    "# print(indicsurl)"
   ]
  },
  {
   "cell_type": "code",
   "execution_count": 45,
   "id": "acquired-allocation",
   "metadata": {},
   "outputs": [],
   "source": [
    "BaseUrl = \"https://www.nseindia.com\"\n",
    "indicsOHLCurl = \"https://www.nseindia.com/api/equity-stockIndices?index=\" + indics\n",
    "\n",
    "newheaders = {\n",
    "            'Connection': 'keep-alive',\n",
    "            'Cache-Control': 'max-age=0',\n",
    "            'DNT': '1',\n",
    "            'Upgrade-Insecure-Requests': '1',\n",
    "            'User-Agent': 'Mozilla/5.0 (Windows NT 10.0; Win64; x64) AppleWebKit/537.36 (KHTML, like Gecko) Chrome/79.0.3945.79 Safari/537.36',\n",
    "            'Sec-Fetch-User': '?1',\n",
    "            'Accept': 'text/html,application/xhtml+xml,application/xml;q=0.9,image/webp,image/apng,*/*;q=0.8,application/signed-exchange;v=b3;q=0.9',\n",
    "            'Sec-Fetch-Site': 'none',\n",
    "            'Sec-Fetch-Mode': 'navigate',\n",
    "            'Accept-Encoding': 'gzip, deflate, br',\n",
    "            'Accept-Language': 'en-US,en;q=0.9,hi;q=0.8',\n",
    "          }\n",
    "\n",
    "# indics = 'NIFTY 50'\n",
    "indics = 'NIFTY BANK'\n",
    "\n",
    "def get_symbol_open_data(indics):\n",
    "    try:\n",
    "        output = requests.get(BaseUrl, headers=newheaders)\n",
    "        s = requests.Session()\n",
    "        output = s.get(BaseUrl,headers=newheaders)\n",
    "        output = s.get(indicsOHLCurl, headers=newheaders).json()\n",
    "    except ValueError:\n",
    "        print(output, \"error\")\n",
    "    return [{'Open' : i['open'], 'previousClose' : i['previousClose'], 'pChange': i['pChange']} for i in output['data'] if indics in i['symbol']]\n"
   ]
  },
  {
   "cell_type": "code",
   "execution_count": 46,
   "id": "original-placement",
   "metadata": {},
   "outputs": [
    {
     "name": "stdout",
     "output_type": "stream",
     "text": [
      "[{'Open': 32228.95, 'previousClose': 32275.15, 'pChange': 1.43}]\n"
     ]
    }
   ],
   "source": [
    "print(get_symbol_open_data(indics))"
   ]
  },
  {
   "cell_type": "code",
   "execution_count": 47,
   "id": "vanilla-cache",
   "metadata": {},
   "outputs": [
    {
     "name": "stdout",
     "output_type": "stream",
     "text": [
      "200\n"
     ]
    }
   ],
   "source": [
    "while(True):\n",
    "    response = requests.get(indicsurl, headers=oldHeader)\n",
    "    print(requests.codes.ok)\n",
    "    if (response.status_code == requests.codes.ok) :\n",
    "        page_content = BeautifulSoup(response.content, \"html.parser\")\n",
    "        try :\n",
    "            a = page_content.find(id=\"csvContentDiv\").get_text();\n",
    "            a = a.replace(':', \", \\n\")\n",
    "            with open(\"data.csv\", \"w\") as f :\n",
    "                f.write(a)\n",
    "            df = pd.read_csv(\"data.csv\",usecols=['Date','Close'])\n",
    "            result = pd.concat([result, df])\n",
    "        except AttributeError :\n",
    "            break;\n",
    "    else:\n",
    "        response.raise_for_status()\n",
    "    break;\n",
    "\n",
    "try :\n",
    "    os.remove(\"data.csv\")\n",
    "except(OSError) :\n",
    "    pass"
   ]
  },
  {
   "cell_type": "code",
   "execution_count": null,
   "id": "dress-characteristic",
   "metadata": {},
   "outputs": [],
   "source": [
    "print(result)"
   ]
  },
  {
   "cell_type": "code",
   "execution_count": null,
   "id": "great-fusion",
   "metadata": {},
   "outputs": [],
   "source": [
    "# transform json file to dataframe\n",
    "# prices = pd.DataFrame(json_prices['data'])[['CH_TIMESTAMP', 'CH_CLOSING_PRICE']]\n",
    "# prices.rename(columns=['CH_TIMESTAMP':\"Date\", 'CH_CLOSING_PRICE':\"Close\"])\n",
    "\n",
    "prices = pd.DataFrame(result)\n",
    "# sort dates in descending order\n",
    "prices['Date'] = pd.to_datetime( prices['Date'] )\n",
    "prices.sort_values(by=['Date'], inplace=True, ascending=True)\n",
    "# print(prices)"
   ]
  },
  {
   "cell_type": "code",
   "execution_count": null,
   "id": "motivated-breeding",
   "metadata": {},
   "outputs": [],
   "source": [
    "# calculate daily logarithmic return\n",
    "prices['returns'] = (np.log(prices.Close / prices.Close.shift(-1)))\n",
    "\n",
    "# calculate daily standard deviation of returns\n",
    "# NumPy's std calculates the population standard deviation by default (it is behaving like Excel's STDEVP).\n",
    "# To make NumPy's std function behave like Excel's STDEV, pass in the value ddof=1:\n",
    "daily_std = round(np.std(prices.returns, ddof=1), 6)\n",
    "\n",
    "# annualized daily standard deviation\n",
    "samples = len(prices.index)-1\n",
    "std = daily_std * round(math.sqrt( samples ), 4)\n",
    "vix = np.round(std*100, 2)"
   ]
  },
  {
   "cell_type": "code",
   "execution_count": null,
   "id": "twelve-paintball",
   "metadata": {},
   "outputs": [],
   "source": [
    "# Plot histograms\n",
    "symbol = indics\n",
    "fig, ax = plt.subplots(1, 1, figsize=(7, 5))\n",
    "n, bins, patches = ax.hist(prices.returns.values, bins=50, alpha=0.65, color='blue')\n",
    " \n",
    "ax.set_xlabel('log return of stock price')\n",
    "ax.set_ylabel('frequency of log return')\n",
    "ax.set_title('Historical Volatility for ' + symbol)\n",
    "  \n",
    "# get x and y coordinate limits\n",
    "x_corr = ax.get_xlim()\n",
    "y_corr = ax.get_ylim()\n",
    "  \n",
    "# make room for text\n",
    "header = y_corr[1] / 5\n",
    "y_corr = (y_corr[0], y_corr[1] + header)\n",
    "ax.set_ylim(y_corr[0], y_corr[1])\n",
    " \n",
    "# print historical volatility on plot\n",
    "x = x_corr[0] + (x_corr[1] - x_corr[0]) / 30\n",
    "y = y_corr[1] - (y_corr[1] - y_corr[0]) / 15\n",
    "ax.text(x, y , 'Annualized Volatility: ' + str(vix)+'%', fontsize=11, fontweight='bold')\n",
    "x = x_corr[0] + (x_corr[1] - x_corr[0]) / 15\n",
    "y -= (y_corr[1] - y_corr[0]) / 20\n",
    " \n",
    "# save histogram plot of historical price volatility\n",
    "fig.tight_layout()\n",
    "fig.savefig('historical volatility.png')\n"
   ]
  }
 ],
 "metadata": {
  "kernelspec": {
   "display_name": "Python 3",
   "language": "python",
   "name": "python3"
  },
  "language_info": {
   "codemirror_mode": {
    "name": "ipython",
    "version": 3
   },
   "file_extension": ".py",
   "mimetype": "text/x-python",
   "name": "python",
   "nbconvert_exporter": "python",
   "pygments_lexer": "ipython3",
   "version": "3.6.5"
  }
 },
 "nbformat": 4,
 "nbformat_minor": 5
}
