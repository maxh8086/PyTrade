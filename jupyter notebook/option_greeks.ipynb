{
 "cells": [
  {
   "cell_type": "code",
   "execution_count": 1,
   "metadata": {
    "scrolled": true
   },
   "outputs": [],
   "source": [
    "import numpy as np\n",
    "from scipy.stats import norm"
   ]
  },
  {
   "cell_type": "markdown",
   "metadata": {},
   "source": [
    "First, a bit on notation.  We will denote the distribution functions as follows:<br>\n",
    "$\\phi = $ Normal probability density function <br>\n",
    "$\\Phi = $ normal cumulative density function\n",
    "\n",
    "For more information on the normal distribution see https://en.wikipedia.org/wiki/Normal_distribution\n",
    "\n",
    "We define the following symbols:\n",
    "- $S$ = Stock Price<br>\n",
    "- $K$ = Strike price<br>\n",
    "- $t$ = Time to expiration (years)<br>\n",
    "- $r$ = Risk-free rate<br>\n",
    "- $\\sigma$ = Implied Volatility\n",
    "\n",
    "The Black Scholes model gives:\n",
    "- Call Price = $S\\Phi(d_1) -Ke^{-rt}\\Phi(d_2)$ <br>\n",
    "- Put Price = $-S\\Phi(-d_1) + Ke^{-rt}\\Phi(-d_2)$\n",
    "\n",
    "In the above equations, $d_1$ and $d_2$ are given respectively by,\n",
    "$$d_1 = \\frac{1}{\\sigma \\sqrt{t}} \\left[ \\ln\\left(\\frac{S}{K}\\right) + \\left(r + \\frac{\\sigma.^2}{2}\\right) t\\right],$$\n",
    "and\n",
    "$$d_2 = d_1 - \\sigma \\sqrt{t}.$$\n",
    "\n",
    "Functions that return the Black-Scholes price of an option and the values of $d_1$ and $d_2$ are given in the cell below."
   ]
  },
  {
   "cell_type": "code",
   "execution_count": 2,
   "metadata": {},
   "outputs": [],
   "source": [
    "#  Functions that return d_1, d_2 and call and put prices\n",
    "def d(sigma, S, K, r, t):\n",
    "    d1 = 1 / (sigma * np.sqrt(t)) * ( np.log(S/K) + (r + sigma**2/2) * t)\n",
    "    d2 = d1 - sigma * np.sqrt(t)\n",
    "    return d1, d2\n",
    "\n",
    "def call_price(sigma, S, K, r, t, d1, d2):\n",
    "    C = norm.cdf(d1) * S - norm.cdf(d2) * K * np.exp(-r * t)\n",
    "    return C\n",
    "\n",
    "def put_price(sigma, S, K, r, t, d1, d2):\n",
    "    P = -norm.cdf(-d1) * S + norm.cdf(-d2) * K * np.exp(-r * t)\n",
    "    return P"
   ]
  },
  {
   "cell_type": "markdown",
   "metadata": {},
   "source": [
    "From the Wikipedia article, we get the expressions for $\\Delta$, $\\Gamma$, and $\\Theta$:\n",
    "\n",
    "$$\\Delta_{\\mbox{call}} = \\Phi(d_1)$$\n",
    "$$\\Delta_{\\mbox{put}} = \\Phi(-d_1)$$\n",
    "\n",
    "Gamma is the same for both calls and puts,\n",
    "$$\\Gamma = Ke^{-et} \\frac{\\phi(d_2)}{S^2\\sigma\\sqrt{t}} $$\n",
    "\n",
    "For $\\Theta$ we have,\n",
    "$$\\Theta_{\\mbox{call}} = -\\frac{S\\sigma\\phi(d_1)}{2\\sqrt{t}} -rKe^{-rt}\\Phi(d_2)$$\n",
    "$$\\Theta_{\\mbox{put}} = -\\frac{S\\sigma\\phi(-d_1)}{2\\sqrt{t}} -rKe^{-rt}\\Phi(-d_2)$$"
   ]
  },
  {
   "cell_type": "code",
   "execution_count": 3,
   "metadata": {},
   "outputs": [],
   "source": [
    "#  Functions for Deltam Gamma, and  Theta\n",
    "def delta(d_1, contract_type):\n",
    "    if contract_type == 'c':\n",
    "        return norm.cdf(d1)\n",
    "    if contract_type == 'p':\n",
    "        return -norm.cdf(-d_1)\n",
    "    \n",
    "def gamma(d2, S, K, sigma, r, t):\n",
    "    return( K * np.exp(-r * t) * (norm.pdf(d2) / (S**2 * sigma * np.sqrt(t) ))) \n",
    "\n",
    "def theta(d1, d2, S, K, sigma, r, t, contract_type):\n",
    "    if contract_type == 'c':\n",
    "        theta = -S * sigma * norm.pdf(d1) / (2 * np.sqrt(t)) - r * K * np.exp(-r * t) * norm.cdf(d2)\n",
    "    if contract_type == 'p':\n",
    "        theta = -S * sigma * norm.pdf(-d1) / (2 * np.sqrt(t)) + r * K * np.exp(-r * t) * norm.cdf(-d2)\n",
    "\n",
    "    return theta\n",
    "\n",
    "def vega(sigma, S, K, r, t):\n",
    "    d1, d2 = d(sigma, S, K, r, t)\n",
    "    v = S * norm.pdf(d1) * np.sqrt(t)\n",
    "    return v"
   ]
  },
  {
   "cell_type": "code",
   "execution_count": 9,
   "metadata": {
    "scrolled": true
   },
   "outputs": [
    {
     "name": "stdout",
     "output_type": "stream",
     "text": [
      "S =  14755.4\n",
      "K =  14850\n",
      "r =  0.1\n",
      "t =  0.0\n",
      "sigma =  25.06\n"
     ]
    }
   ],
   "source": [
    "#  Using TSLA data from 5/9/2020 closing values\n",
    "stockprice = 14755.4;\n",
    "strikeprice = 14850;\n",
    "interestrates = 0.1;\n",
    "daysToExpire = 0;\n",
    "iv = 25.06;\n",
    "S = stockprice; print('S = ', S)\n",
    "K = strikeprice; print('K = ', K)\n",
    "r = interestrates; print('r = ', r)\n",
    "t = daysToExpire / 365; print('t = ', t)\n",
    "sigma = iv; print('sigma = ', sigma)"
   ]
  },
  {
   "cell_type": "code",
   "execution_count": 12,
   "metadata": {},
   "outputs": [
    {
     "name": "stdout",
     "output_type": "stream",
     "text": [
      "d1 =  -inf\n",
      "d2 =  -inf\n"
     ]
    },
    {
     "name": "stderr",
     "output_type": "stream",
     "text": [
      "c:\\pythonproject\\tradingpy\\lib\\site-packages\\ipykernel_launcher.py:3: RuntimeWarning: divide by zero encountered in double_scalars\n",
      "  This is separate from the ipykernel package so we can avoid doing imports until\n"
     ]
    }
   ],
   "source": [
    "#  Calculate the values of d1 and d2 needed for other functions\n",
    "d1, d2 = d(sigma, S, K, r, t)\n",
    "print('d1 = ', d1)\n",
    "print('d2 = ', d2)"
   ]
  },
  {
   "cell_type": "code",
   "execution_count": 11,
   "metadata": {},
   "outputs": [
    {
     "name": "stdout",
     "output_type": "stream",
     "text": [
      "Call Delta =  0.0\n",
      "Put Delta =  -1.0\n"
     ]
    }
   ],
   "source": [
    "delta_call = delta(d1, 'c')\n",
    "delta_put = delta(d1, 'p')\n",
    "print('Call Delta = ', delta_call)\n",
    "print('Put Delta = ', delta_put)"
   ]
  },
  {
   "cell_type": "code",
   "execution_count": 7,
   "metadata": {},
   "outputs": [
    {
     "name": "stdout",
     "output_type": "stream",
     "text": [
      "Gamma =  1.667417548269687e-05\n"
     ]
    }
   ],
   "source": [
    "print( 'Gamma = ', gamma(d2, S, K, sigma, r, t) )"
   ]
  },
  {
   "cell_type": "code",
   "execution_count": 8,
   "metadata": {},
   "outputs": [
    {
     "name": "stdout",
     "output_type": "stream",
     "text": [
      "14755.4 14850 0.1 0.0027397260273972603 25.06 0.6511869337675167 -0.6605134162435586\n",
      "-1140308.551009601\n",
      "Call Theta =  -312413.301646466\n",
      "Put Thata =  -312006.56378169544\n",
      "2.492496426433954\n"
     ]
    }
   ],
   "source": [
    "#####  Calculate Theta\n",
    "print(S, K, r, t, sigma, d1, d2)\n",
    "print( theta(d1, d2, S, K, sigma, r, t, 'c') )\n",
    "\n",
    "print( 'Call Theta = ', theta(d1, d2, S, K, sigma, r, t, 'c') / 365 * 100)\n",
    "print( 'Put Thata = ', theta(d1, d2, S, K, sigma, r, t, 'p') / 365 * 100)\n",
    "print( vega(sigma, S, K, r, t) /100 )"
   ]
  },
  {
   "cell_type": "markdown",
   "metadata": {},
   "source": [
    "#  Discussion of Units\n",
    "Option price $\\rightarrow$ price per share<br>\n",
    "S $\\rightarrow$  price per share <br>\n",
    "K $\\rightarrow$  price per share <br>\n",
    "r $\\rightarrow$  per year<br>\n",
    "t $\\rightarrow$  Years<br>\n",
    "$\\sigma \\rightarrow$  per $\\sqrt{\\mbox{year}}$\n",
    "\n",
    "One contract = 100 shares"
   ]
  },
  {
   "cell_type": "markdown",
   "metadata": {},
   "source": [
    "## Example with $\\Theta$\n",
    "Fromthe Black Scholes model we see that $\\Theta$ has units of price per share per year,\n",
    "$$\\Theta == \\frac{\\partial V}{\\partial t}\\rightarrow \\left( \\frac{\\mbox{price}}{\\mbox{share}}\\right)\\left(\\frac{1}{\\mbox{years}}\\right)$$\n",
    "\n",
    "But the convention for most trading platforms is,\n",
    "$$\\left(\\frac{\\mbox{price}}{\\mbox{contract}}\\right)\\left(\\frac{1}{\\mbox{day}}\\right)$$\n",
    "\n",
    "We convert to price per contract per day by coming up with a conversion factor.\n",
    "$$\\left( \\frac{\\mbox{price}}{\\mbox{share}}\\right)\\left(\\frac{1}{\\mbox{years}}\\right) \\times\n",
    "\\left(\\frac{100\\mbox{shares}}{1\\mbox{contract}}\\right)\\left(\\frac{1\\mbox{year}}{365\\mbox{days}}\\right)$$\n",
    "\n",
    "Using AAPL as an example,\n",
    "<IMG SRC=\"aapl_theta.png\" WIDTH=\"40%\">"
   ]
  },
  {
   "cell_type": "code",
   "execution_count": null,
   "metadata": {},
   "outputs": [],
   "source": []
  },
  {
   "cell_type": "code",
   "execution_count": null,
   "metadata": {},
   "outputs": [],
   "source": []
  },
  {
   "cell_type": "markdown",
   "metadata": {},
   "source": [
    "## Example with vega ($\\nu$)\n",
    "\n",
    "Bega has units of,\n",
    "$$  \\mbox{vega} = \\frac{\\partial V}{\\partial \\sigma} \\rightarrow \\left(\\frac{\\mbox{price}}{\\mbox{share}}\\right)\\left(\\frac{1}{\\mbox{vol point}}\\right)$$\n",
    "\n",
    "The platform quotes vega in units of price per share per vol percentage point.  To do the conversion we do the following,\n",
    "$$  \\mbox{vega} = \\frac{\\partial V}{\\partial \\sigma} \\rightarrow \\left(\\frac{\\mbox{price}}{\\mbox{share}}\\right)\\left(\\frac{1}{\\mbox{vol point}}\\right)\n",
    "\\left(\\frac{1 \\mbox{vol point}}{100\\mbox{percentage points}}\\right)$$\n",
    "<IMG SRC=\"aapl_vega.png\" WIDTH=\"40%\">"
   ]
  },
  {
   "cell_type": "code",
   "execution_count": 9,
   "metadata": {},
   "outputs": [
    {
     "name": "stdout",
     "output_type": "stream",
     "text": [
      "2.807193915043112\n"
     ]
    }
   ],
   "source": []
  },
  {
   "cell_type": "code",
   "execution_count": null,
   "metadata": {},
   "outputs": [],
   "source": []
  }
 ],
 "metadata": {
  "kernelspec": {
   "display_name": "Python 3",
   "language": "python",
   "name": "python3"
  },
  "language_info": {
   "codemirror_mode": {
    "name": "ipython",
    "version": 3
   },
   "file_extension": ".py",
   "mimetype": "text/x-python",
   "name": "python",
   "nbconvert_exporter": "python",
   "pygments_lexer": "ipython3",
   "version": "3.6.5"
  }
 },
 "nbformat": 4,
 "nbformat_minor": 4
}
