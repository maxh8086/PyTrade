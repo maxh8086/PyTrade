{
 "cells": [
  {
   "cell_type": "code",
   "execution_count": 22,
   "id": "imperial-surge",
   "metadata": {},
   "outputs": [
    {
     "name": "stdout",
     "output_type": "stream",
     "text": [
      "Call Price 755.0\n",
      "Call Delta 1.0\n",
      "Call Theta -3.84\n",
      "Call vega 0.0\n",
      "Call gamma 0.0\n",
      "Put Price 0.0\n",
      "Put Delta -0.0\n",
      "Put Theta 0.0\n"
     ]
    }
   ],
   "source": [
    "import mibian\n",
    "#  Using TSLA data from 5/9/2020 closing values\n",
    "underlyingPrice = 14755;\n",
    "strikePrice = 14000;\n",
    "interestRate = 10;\n",
    "daysToExpiration = 0.0001;\n",
    "volatility = 25.06;\n",
    "# BS([underlyingPrice, strikePrice, interestRate, daysToExpiration], volatility=x, callPrice=y, putPrice=z)\n",
    "c = mibian.BS([underlyingPrice, strikePrice, interestRate, daysToExpiration], volatility=volatility)\n",
    "\n",
    "print('Call Price', round(c.callPrice,2))\n",
    "print('Call Delta', (c.callDelta))\n",
    "print('Call Theta', round(c.callTheta,2))\n",
    "print('Call vega', round(c.vega,4))\n",
    "print('Call gamma', round(c.gamma,4))\n",
    "# put result\n",
    "print('Put Price', round(c.putPrice,2))\n",
    "print('Put Delta', round(c.putDelta,2))\n",
    "print('Put Theta', round(c.putTheta,2))\n"
   ]
  },
  {
   "cell_type": "code",
   "execution_count": null,
   "id": "running-schedule",
   "metadata": {},
   "outputs": [],
   "source": [
    "import math\n",
    "from scipy.stats import norm\n",
    "test = (math.log(15200 / 14800) + (10 + (22**2) / 2) * 0)/ (0 + 0.0001)\n",
    "print(test)\n",
    "print(((norm.cdf(test)-0)*100))\n",
    "# print(math.log(14000 / 14800))"
   ]
  },
  {
   "cell_type": "code",
   "execution_count": null,
   "id": "severe-capital",
   "metadata": {},
   "outputs": [],
   "source": []
  }
 ],
 "metadata": {
  "kernelspec": {
   "display_name": "Python 3",
   "language": "python",
   "name": "python3"
  },
  "language_info": {
   "codemirror_mode": {
    "name": "ipython",
    "version": 3
   },
   "file_extension": ".py",
   "mimetype": "text/x-python",
   "name": "python",
   "nbconvert_exporter": "python",
   "pygments_lexer": "ipython3",
   "version": "3.6.5"
  }
 },
 "nbformat": 4,
 "nbformat_minor": 5
}
