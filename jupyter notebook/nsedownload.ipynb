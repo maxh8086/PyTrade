{
 "cells": [
  {
   "cell_type": "code",
   "execution_count": 2,
   "id": "ordered-bicycle",
   "metadata": {},
   "outputs": [
    {
     "name": "stdout",
     "output_type": "stream",
     "text": [
      "NIFTY 50\n",
      "Downloading  [-] 100.00 % \n",
      "175\n"
     ]
    }
   ],
   "source": [
    "from NSEDownload import indices\n",
    "from datetime import date, timedelta\n",
    "\n",
    "\n",
    "end_date = date.today() # 24-03-2021\n",
    "start_date = end_date - timedelta(days=252) # 24-03-2020\n",
    " \n",
    "# reformat date range\n",
    "end = end_date.strftime('%d-%m-%Y')\n",
    "start = start_date.strftime('%d-%m-%Y')\n",
    "\n",
    "df = indices.get_data(indexName = \"NIFTY 50\",start_date=start,end_date=end)\n",
    "samples = len(df.index)\n",
    "print(samples)"
   ]
  },
  {
   "cell_type": "code",
   "execution_count": 1,
   "id": "suspended-transparency",
   "metadata": {},
   "outputs": [
    {
     "name": "stdout",
     "output_type": "stream",
     "text": [
      "4.605170185988092\n",
      "2.0\n"
     ]
    }
   ],
   "source": [
    "import numpy as np\n",
    "print(np.log(100))\n",
    "print(np.log10(100))"
   ]
  },
  {
   "cell_type": "code",
   "execution_count": 4,
   "id": "conventional-pacific",
   "metadata": {},
   "outputs": [
    {
     "ename": "SyntaxError",
     "evalue": "invalid syntax (<ipython-input-4-8b0aa76b986b>, line 1)",
     "output_type": "error",
     "traceback": [
      "\u001b[1;36m  File \u001b[1;32m\"<ipython-input-4-8b0aa76b986b>\"\u001b[1;36m, line \u001b[1;32m1\u001b[0m\n\u001b[1;33m    print(str(\"'\" + 19:57 + \"'\"))\u001b[0m\n\u001b[1;37m                      ^\u001b[0m\n\u001b[1;31mSyntaxError\u001b[0m\u001b[1;31m:\u001b[0m invalid syntax\n"
     ]
    }
   ],
   "source": [
    "print(str(\"'\" + 19:57 + \"'\"))"
   ]
  },
  {
   "cell_type": "code",
   "execution_count": null,
   "id": "funky-promotion",
   "metadata": {},
   "outputs": [],
   "source": []
  }
 ],
 "metadata": {
  "kernelspec": {
   "display_name": "Python 3",
   "language": "python",
   "name": "python3"
  },
  "language_info": {
   "codemirror_mode": {
    "name": "ipython",
    "version": 3
   },
   "file_extension": ".py",
   "mimetype": "text/x-python",
   "name": "python",
   "nbconvert_exporter": "python",
   "pygments_lexer": "ipython3",
   "version": "3.6.5"
  }
 },
 "nbformat": 4,
 "nbformat_minor": 5
}
