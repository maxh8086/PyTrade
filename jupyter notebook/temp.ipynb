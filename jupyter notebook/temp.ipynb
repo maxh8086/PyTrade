{
 "cells": [
  {
   "cell_type": "code",
   "execution_count": 37,
   "id": "structural-sierra",
   "metadata": {},
   "outputs": [
    {
     "name": "stdout",
     "output_type": "stream",
     "text": [
      "2021-05-06 15:30:00\n",
      "<class 'datetime.datetime'>\n",
      "16820\n"
     ]
    }
   ],
   "source": [
    "from datetime import datetime, date, timedelta\n",
    "\n",
    "TF1 = '%H:%M:%S'\n",
    "TF2 = '%d-%b-%Y %H:%M:%S'\n",
    "expiry = '06-May-2021'\n",
    "timenow = datetime.now().strftime(TF2)\n",
    "dtm_today = datetime.strptime(timenow, TF2)\n",
    "s2 = datetime.strptime('15:30:00', FMT) # Expiry End\n",
    "exp_str = datetime.strptime(expiry, '%d-%b-%Y')\n",
    "# print(exp_str)\n",
    "# dt_expiry = date(int(exp_str.strftime('%Y')), int(exp_str.strftime('%m')), int(exp_str.strftime('%d')))\n",
    "dt_expiry =  exp_str + timedelta(hours = s2.hour, minutes=s2.minute)\n",
    "print(dt_expiry)\n",
    "print(type(dt_today))\n",
    "\n",
    "daystoexpiry = (dt_expiry - dtm_today).seconds\n",
    "# / 86400\n",
    "print(daystoexpiry)"
   ]
  },
  {
   "cell_type": "code",
   "execution_count": null,
   "id": "collectible-tower",
   "metadata": {},
   "outputs": [],
   "source": []
  }
 ],
 "metadata": {
  "kernelspec": {
   "display_name": "Python 3",
   "language": "python",
   "name": "python3"
  },
  "language_info": {
   "codemirror_mode": {
    "name": "ipython",
    "version": 3
   },
   "file_extension": ".py",
   "mimetype": "text/x-python",
   "name": "python",
   "nbconvert_exporter": "python",
   "pygments_lexer": "ipython3",
   "version": "3.6.5"
  }
 },
 "nbformat": 4,
 "nbformat_minor": 5
}
